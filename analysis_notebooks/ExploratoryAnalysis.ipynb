{
 "cells": [
  {
   "cell_type": "code",
   "execution_count": 1,
   "id": "d18f1216-e6bf-43a3-ac82-dda336397051",
   "metadata": {},
   "outputs": [],
   "source": [
    "import pandas as pd"
   ]
  },
  {
   "cell_type": "code",
   "execution_count": 2,
   "id": "b9a3bf93-53f3-4708-820e-2198e36ce0fa",
   "metadata": {},
   "outputs": [],
   "source": [
    "file_path = '../datasets/input-file-10000.txt'"
   ]
  },
  {
   "cell_type": "code",
   "execution_count": 3,
   "id": "a10f78a6-c1ff-4329-abec-0a0c2e5b1c40",
   "metadata": {},
   "outputs": [],
   "source": [
    "columns = ['Timestamp', 'FromHost', 'ToHost', ]"
   ]
  },
  {
   "cell_type": "code",
   "execution_count": 6,
   "id": "21243ed1-5b01-4f31-bec3-2cda5d4ff6ef",
   "metadata": {},
   "outputs": [],
   "source": [
    "df = pd.read_csv(file_path, sep=' ', header=None, names=columns)"
   ]
  },
  {
   "cell_type": "code",
   "execution_count": 8,
   "id": "ad016144-11c7-4da3-ae38-c64ebef70575",
   "metadata": {},
   "outputs": [
    {
     "data": {
      "text/html": [
       "<div>\n",
       "<style scoped>\n",
       "    .dataframe tbody tr th:only-of-type {\n",
       "        vertical-align: middle;\n",
       "    }\n",
       "\n",
       "    .dataframe tbody tr th {\n",
       "        vertical-align: top;\n",
       "    }\n",
       "\n",
       "    .dataframe thead th {\n",
       "        text-align: right;\n",
       "    }\n",
       "</style>\n",
       "<table border=\"1\" class=\"dataframe\">\n",
       "  <thead>\n",
       "    <tr style=\"text-align: right;\">\n",
       "      <th></th>\n",
       "      <th>Timestamp</th>\n",
       "      <th>FromHost</th>\n",
       "      <th>ToHost</th>\n",
       "    </tr>\n",
       "  </thead>\n",
       "  <tbody>\n",
       "    <tr>\n",
       "      <th>0</th>\n",
       "      <td>1565647204351</td>\n",
       "      <td>Aadvik</td>\n",
       "      <td>Matina</td>\n",
       "    </tr>\n",
       "    <tr>\n",
       "      <th>1</th>\n",
       "      <td>1565647205599</td>\n",
       "      <td>Keimy</td>\n",
       "      <td>Dmetri</td>\n",
       "    </tr>\n",
       "    <tr>\n",
       "      <th>2</th>\n",
       "      <td>1565647212986</td>\n",
       "      <td>Tyreonna</td>\n",
       "      <td>Rehgan</td>\n",
       "    </tr>\n",
       "    <tr>\n",
       "      <th>3</th>\n",
       "      <td>1565647228897</td>\n",
       "      <td>Heera</td>\n",
       "      <td>Eron</td>\n",
       "    </tr>\n",
       "    <tr>\n",
       "      <th>4</th>\n",
       "      <td>1565647246869</td>\n",
       "      <td>Jeremyah</td>\n",
       "      <td>Morrigan</td>\n",
       "    </tr>\n",
       "    <tr>\n",
       "      <th>...</th>\n",
       "      <td>...</td>\n",
       "      <td>...</td>\n",
       "      <td>...</td>\n",
       "    </tr>\n",
       "    <tr>\n",
       "      <th>9995</th>\n",
       "      <td>1565733587895</td>\n",
       "      <td>Jeiden</td>\n",
       "      <td>Shealee</td>\n",
       "    </tr>\n",
       "    <tr>\n",
       "      <th>9996</th>\n",
       "      <td>1565733589054</td>\n",
       "      <td>Trestyn</td>\n",
       "      <td>Sidney</td>\n",
       "    </tr>\n",
       "    <tr>\n",
       "      <th>9997</th>\n",
       "      <td>1565733592699</td>\n",
       "      <td>Sianah</td>\n",
       "      <td>Olvin</td>\n",
       "    </tr>\n",
       "    <tr>\n",
       "      <th>9998</th>\n",
       "      <td>1565733597482</td>\n",
       "      <td>Avionne</td>\n",
       "      <td>Zafina</td>\n",
       "    </tr>\n",
       "    <tr>\n",
       "      <th>9999</th>\n",
       "      <td>1565733598341</td>\n",
       "      <td>Sujey</td>\n",
       "      <td>Zyla</td>\n",
       "    </tr>\n",
       "  </tbody>\n",
       "</table>\n",
       "<p>10000 rows × 3 columns</p>\n",
       "</div>"
      ],
      "text/plain": [
       "          Timestamp  FromHost    ToHost\n",
       "0     1565647204351    Aadvik    Matina\n",
       "1     1565647205599     Keimy    Dmetri\n",
       "2     1565647212986  Tyreonna    Rehgan\n",
       "3     1565647228897     Heera      Eron\n",
       "4     1565647246869  Jeremyah  Morrigan\n",
       "...             ...       ...       ...\n",
       "9995  1565733587895    Jeiden   Shealee\n",
       "9996  1565733589054   Trestyn    Sidney\n",
       "9997  1565733592699    Sianah     Olvin\n",
       "9998  1565733597482   Avionne    Zafina\n",
       "9999  1565733598341     Sujey      Zyla\n",
       "\n",
       "[10000 rows x 3 columns]"
      ]
     },
     "execution_count": 8,
     "metadata": {},
     "output_type": "execute_result"
    }
   ],
   "source": [
    "df"
   ]
  },
  {
   "cell_type": "code",
   "execution_count": 11,
   "id": "cd1cc615-8df7-4ed2-b9b3-26b9b2db025b",
   "metadata": {},
   "outputs": [],
   "source": [
    "df[\"Datetime\"] = pd.to_datetime(df[\"Timestamp\"], unit='ms')"
   ]
  },
  {
   "cell_type": "code",
   "execution_count": 12,
   "id": "b943efc7-8d4f-46b2-ad93-c552624f1f98",
   "metadata": {},
   "outputs": [
    {
     "data": {
      "text/html": [
       "<div>\n",
       "<style scoped>\n",
       "    .dataframe tbody tr th:only-of-type {\n",
       "        vertical-align: middle;\n",
       "    }\n",
       "\n",
       "    .dataframe tbody tr th {\n",
       "        vertical-align: top;\n",
       "    }\n",
       "\n",
       "    .dataframe thead th {\n",
       "        text-align: right;\n",
       "    }\n",
       "</style>\n",
       "<table border=\"1\" class=\"dataframe\">\n",
       "  <thead>\n",
       "    <tr style=\"text-align: right;\">\n",
       "      <th></th>\n",
       "      <th>Timestamp</th>\n",
       "      <th>FromHost</th>\n",
       "      <th>ToHost</th>\n",
       "      <th>Datetime</th>\n",
       "    </tr>\n",
       "  </thead>\n",
       "  <tbody>\n",
       "    <tr>\n",
       "      <th>0</th>\n",
       "      <td>1565647204351</td>\n",
       "      <td>Aadvik</td>\n",
       "      <td>Matina</td>\n",
       "      <td>2019-08-12 22:00:04.351</td>\n",
       "    </tr>\n",
       "    <tr>\n",
       "      <th>1</th>\n",
       "      <td>1565647205599</td>\n",
       "      <td>Keimy</td>\n",
       "      <td>Dmetri</td>\n",
       "      <td>2019-08-12 22:00:05.599</td>\n",
       "    </tr>\n",
       "    <tr>\n",
       "      <th>2</th>\n",
       "      <td>1565647212986</td>\n",
       "      <td>Tyreonna</td>\n",
       "      <td>Rehgan</td>\n",
       "      <td>2019-08-12 22:00:12.986</td>\n",
       "    </tr>\n",
       "    <tr>\n",
       "      <th>3</th>\n",
       "      <td>1565647228897</td>\n",
       "      <td>Heera</td>\n",
       "      <td>Eron</td>\n",
       "      <td>2019-08-12 22:00:28.897</td>\n",
       "    </tr>\n",
       "    <tr>\n",
       "      <th>4</th>\n",
       "      <td>1565647246869</td>\n",
       "      <td>Jeremyah</td>\n",
       "      <td>Morrigan</td>\n",
       "      <td>2019-08-12 22:00:46.869</td>\n",
       "    </tr>\n",
       "    <tr>\n",
       "      <th>...</th>\n",
       "      <td>...</td>\n",
       "      <td>...</td>\n",
       "      <td>...</td>\n",
       "      <td>...</td>\n",
       "    </tr>\n",
       "    <tr>\n",
       "      <th>9995</th>\n",
       "      <td>1565733587895</td>\n",
       "      <td>Jeiden</td>\n",
       "      <td>Shealee</td>\n",
       "      <td>2019-08-13 21:59:47.895</td>\n",
       "    </tr>\n",
       "    <tr>\n",
       "      <th>9996</th>\n",
       "      <td>1565733589054</td>\n",
       "      <td>Trestyn</td>\n",
       "      <td>Sidney</td>\n",
       "      <td>2019-08-13 21:59:49.054</td>\n",
       "    </tr>\n",
       "    <tr>\n",
       "      <th>9997</th>\n",
       "      <td>1565733592699</td>\n",
       "      <td>Sianah</td>\n",
       "      <td>Olvin</td>\n",
       "      <td>2019-08-13 21:59:52.699</td>\n",
       "    </tr>\n",
       "    <tr>\n",
       "      <th>9998</th>\n",
       "      <td>1565733597482</td>\n",
       "      <td>Avionne</td>\n",
       "      <td>Zafina</td>\n",
       "      <td>2019-08-13 21:59:57.482</td>\n",
       "    </tr>\n",
       "    <tr>\n",
       "      <th>9999</th>\n",
       "      <td>1565733598341</td>\n",
       "      <td>Sujey</td>\n",
       "      <td>Zyla</td>\n",
       "      <td>2019-08-13 21:59:58.341</td>\n",
       "    </tr>\n",
       "  </tbody>\n",
       "</table>\n",
       "<p>10000 rows × 4 columns</p>\n",
       "</div>"
      ],
      "text/plain": [
       "          Timestamp  FromHost    ToHost                Datetime\n",
       "0     1565647204351    Aadvik    Matina 2019-08-12 22:00:04.351\n",
       "1     1565647205599     Keimy    Dmetri 2019-08-12 22:00:05.599\n",
       "2     1565647212986  Tyreonna    Rehgan 2019-08-12 22:00:12.986\n",
       "3     1565647228897     Heera      Eron 2019-08-12 22:00:28.897\n",
       "4     1565647246869  Jeremyah  Morrigan 2019-08-12 22:00:46.869\n",
       "...             ...       ...       ...                     ...\n",
       "9995  1565733587895    Jeiden   Shealee 2019-08-13 21:59:47.895\n",
       "9996  1565733589054   Trestyn    Sidney 2019-08-13 21:59:49.054\n",
       "9997  1565733592699    Sianah     Olvin 2019-08-13 21:59:52.699\n",
       "9998  1565733597482   Avionne    Zafina 2019-08-13 21:59:57.482\n",
       "9999  1565733598341     Sujey      Zyla 2019-08-13 21:59:58.341\n",
       "\n",
       "[10000 rows x 4 columns]"
      ]
     },
     "execution_count": 12,
     "metadata": {},
     "output_type": "execute_result"
    }
   ],
   "source": [
    "df"
   ]
  },
  {
   "cell_type": "code",
   "execution_count": 13,
   "id": "a721a920-61d8-4110-b2e5-d134acce58d9",
   "metadata": {},
   "outputs": [
    {
     "data": {
      "text/plain": [
       "Timestamp('2019-08-12 22:00:04.351000')"
      ]
     },
     "execution_count": 13,
     "metadata": {},
     "output_type": "execute_result"
    }
   ],
   "source": [
    "df[\"Datetime\"].min()"
   ]
  },
  {
   "cell_type": "code",
   "execution_count": 14,
   "id": "098dd155-6f76-467a-b8ed-3639e97b8f3a",
   "metadata": {},
   "outputs": [
    {
     "data": {
      "text/plain": [
       "Timestamp('2019-08-13 21:59:58.341000')"
      ]
     },
     "execution_count": 14,
     "metadata": {},
     "output_type": "execute_result"
    }
   ],
   "source": [
    "df[\"Datetime\"].max()"
   ]
  },
  {
   "cell_type": "code",
   "execution_count": 19,
   "id": "5f94ba8b-2802-4c23-b594-2c4b7ab6fc5b",
   "metadata": {},
   "outputs": [
    {
     "data": {
      "text/plain": [
       "ToHost\n",
       "Lynnsie      24\n",
       "Tilda        20\n",
       "Jameice      20\n",
       "Zhanasia     20\n",
       "Jaelianna    19\n",
       "             ..\n",
       "Kaylum        3\n",
       "Jaevaughn     3\n",
       "Jerikka       3\n",
       "Anissa        2\n",
       "Sharon        2\n",
       "Name: count, Length: 1000, dtype: int64"
      ]
     },
     "execution_count": 19,
     "metadata": {},
     "output_type": "execute_result"
    }
   ],
   "source": [
    "df[\"ToHost\"].value_counts(dropna=False)"
   ]
  },
  {
   "cell_type": "code",
   "execution_count": 21,
   "id": "bad3eba5-fd96-4d4c-b812-af8d6b5902fa",
   "metadata": {},
   "outputs": [
    {
     "data": {
      "text/html": [
       "<div>\n",
       "<style scoped>\n",
       "    .dataframe tbody tr th:only-of-type {\n",
       "        vertical-align: middle;\n",
       "    }\n",
       "\n",
       "    .dataframe tbody tr th {\n",
       "        vertical-align: top;\n",
       "    }\n",
       "\n",
       "    .dataframe thead th {\n",
       "        text-align: right;\n",
       "    }\n",
       "</style>\n",
       "<table border=\"1\" class=\"dataframe\">\n",
       "  <thead>\n",
       "    <tr style=\"text-align: right;\">\n",
       "      <th></th>\n",
       "      <th></th>\n",
       "      <th>Timestamp</th>\n",
       "      <th>Datetime</th>\n",
       "    </tr>\n",
       "    <tr>\n",
       "      <th>ToHost</th>\n",
       "      <th>FromHost</th>\n",
       "      <th></th>\n",
       "      <th></th>\n",
       "    </tr>\n",
       "  </thead>\n",
       "  <tbody>\n",
       "    <tr>\n",
       "      <th rowspan=\"5\" valign=\"top\">Aadison</th>\n",
       "      <th>Delona</th>\n",
       "      <td>1</td>\n",
       "      <td>1</td>\n",
       "    </tr>\n",
       "    <tr>\n",
       "      <th>Dominiq</th>\n",
       "      <td>1</td>\n",
       "      <td>1</td>\n",
       "    </tr>\n",
       "    <tr>\n",
       "      <th>Dristen</th>\n",
       "      <td>1</td>\n",
       "      <td>1</td>\n",
       "    </tr>\n",
       "    <tr>\n",
       "      <th>Eddison</th>\n",
       "      <td>1</td>\n",
       "      <td>1</td>\n",
       "    </tr>\n",
       "    <tr>\n",
       "      <th>Evelyse</th>\n",
       "      <td>1</td>\n",
       "      <td>1</td>\n",
       "    </tr>\n",
       "    <tr>\n",
       "      <th>...</th>\n",
       "      <th>...</th>\n",
       "      <td>...</td>\n",
       "      <td>...</td>\n",
       "    </tr>\n",
       "    <tr>\n",
       "      <th rowspan=\"5\" valign=\"top\">Zyriel</th>\n",
       "      <th>Eean</th>\n",
       "      <td>1</td>\n",
       "      <td>1</td>\n",
       "    </tr>\n",
       "    <tr>\n",
       "      <th>Eldrin</th>\n",
       "      <td>1</td>\n",
       "      <td>1</td>\n",
       "    </tr>\n",
       "    <tr>\n",
       "      <th>Ivanah</th>\n",
       "      <td>1</td>\n",
       "      <td>1</td>\n",
       "    </tr>\n",
       "    <tr>\n",
       "      <th>Khamoni</th>\n",
       "      <td>1</td>\n",
       "      <td>1</td>\n",
       "    </tr>\n",
       "    <tr>\n",
       "      <th>Ricquan</th>\n",
       "      <td>1</td>\n",
       "      <td>1</td>\n",
       "    </tr>\n",
       "  </tbody>\n",
       "</table>\n",
       "<p>9995 rows × 2 columns</p>\n",
       "</div>"
      ],
      "text/plain": [
       "                  Timestamp  Datetime\n",
       "ToHost  FromHost                     \n",
       "Aadison Delona            1         1\n",
       "        Dominiq           1         1\n",
       "        Dristen           1         1\n",
       "        Eddison           1         1\n",
       "        Evelyse           1         1\n",
       "...                     ...       ...\n",
       "Zyriel  Eean              1         1\n",
       "        Eldrin            1         1\n",
       "        Ivanah            1         1\n",
       "        Khamoni           1         1\n",
       "        Ricquan           1         1\n",
       "\n",
       "[9995 rows x 2 columns]"
      ]
     },
     "execution_count": 21,
     "metadata": {},
     "output_type": "execute_result"
    }
   ],
   "source": [
    "df.groupby([\"ToHost\",\"FromHost\"]).count()"
   ]
  }
 ],
 "metadata": {
  "kernelspec": {
   "display_name": "Python 3 (ipykernel)",
   "language": "python",
   "name": "python3"
  },
  "language_info": {
   "codemirror_mode": {
    "name": "ipython",
    "version": 3
   },
   "file_extension": ".py",
   "mimetype": "text/x-python",
   "name": "python",
   "nbconvert_exporter": "python",
   "pygments_lexer": "ipython3",
   "version": "3.11.7"
  }
 },
 "nbformat": 4,
 "nbformat_minor": 5
}
